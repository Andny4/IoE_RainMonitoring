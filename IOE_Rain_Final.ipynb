{
  "nbformat": 4,
  "nbformat_minor": 0,
  "metadata": {
    "colab": {
      "provenance": []
    },
    "kernelspec": {
      "name": "python3",
      "display_name": "Python 3"
    },
    "language_info": {
      "name": "python"
    }
  },
  "cells": [
    {
      "cell_type": "code",
      "execution_count": null,
      "metadata": {
        "id": "V6mw_i0KpboZ"
      },
      "outputs": [],
      "source": [
        "import pandas as pd\n",
        "import numpy as np\n",
        "import matplotlib.pyplot as plt\n",
        "import seaborn as sns\n",
        "%matplotlib inline"
      ]
    },
    {
      "cell_type": "code",
      "source": [
        "rain = pd.read_csv(\"Rainfall_data.csv\")\n",
        "print(rain.info())"
      ],
      "metadata": {
        "id": "7O-088HYqQb_",
        "colab": {
          "base_uri": "https://localhost:8080/"
        },
        "outputId": "2ee99b71-ba9f-46a6-d94a-8cd5c29368c7"
      },
      "execution_count": null,
      "outputs": [
        {
          "output_type": "stream",
          "name": "stdout",
          "text": [
            "<class 'pandas.core.frame.DataFrame'>\n",
            "RangeIndex: 252 entries, 0 to 251\n",
            "Data columns (total 8 columns):\n",
            " #   Column             Non-Null Count  Dtype  \n",
            "---  ------             --------------  -----  \n",
            " 0   Year               252 non-null    int64  \n",
            " 1   Month              252 non-null    int64  \n",
            " 2   Day                252 non-null    int64  \n",
            " 3   Specific Humidity  252 non-null    float64\n",
            " 4   Relative Humidity  252 non-null    float64\n",
            " 5   Temperature        252 non-null    float64\n",
            " 6   Precipitation      252 non-null    float64\n",
            " 7   Chance             252 non-null    object \n",
            "dtypes: float64(4), int64(3), object(1)\n",
            "memory usage: 15.9+ KB\n",
            "None\n"
          ]
        }
      ]
    },
    {
      "cell_type": "code",
      "source": [
        "categorical_features = [column_name for column_name in rain.columns if rain[column_name].dtype == 'O']\n",
        "print(\"Number of Categorical Features: {}\".format(len(categorical_features)))\n",
        "print(\"Categorical Features: \",categorical_features)"
      ],
      "metadata": {
        "id": "aBG5yTV9qUiy",
        "colab": {
          "base_uri": "https://localhost:8080/"
        },
        "outputId": "32cebd63-1e23-42dd-accf-d3a4e170e039"
      },
      "execution_count": null,
      "outputs": [
        {
          "output_type": "stream",
          "name": "stdout",
          "text": [
            "Number of Categorical Features: 1\n",
            "Categorical Features:  ['Chance']\n"
          ]
        }
      ]
    },
    {
      "cell_type": "code",
      "source": [
        "rain[\"Chance\"] = np.where(rain[\"Chance\"] == \"Low\", 0, 1)\n",
        "rain"
      ],
      "metadata": {
        "colab": {
          "base_uri": "https://localhost:8080/",
          "height": 423
        },
        "id": "5NT_6iMNXSjA",
        "outputId": "cc4f2c3b-3265-4530-b4b8-e405b8610107"
      },
      "execution_count": null,
      "outputs": [
        {
          "output_type": "execute_result",
          "data": {
            "text/plain": [
              "     Year  Month  Day  Specific Humidity  Relative Humidity  Temperature  \\\n",
              "0    2000      1    1               8.06              48.25        23.93   \n",
              "1    2000      2    1               8.73              50.81        25.83   \n",
              "2    2000      3    1               8.48              42.88        26.68   \n",
              "3    2000      4    1               1.79              55.69        22.49   \n",
              "4    2000      5    1              17.40              70.88        19.07   \n",
              "..    ...    ...  ...                ...                ...          ...   \n",
              "247  2020      8    1              20.08              92.31         5.34   \n",
              "248  2020      9    1              19.71              90.12         9.22   \n",
              "249  2020     10    1              18.43              82.69        12.62   \n",
              "250  2020     11    1              14.83              76.06        16.95   \n",
              "251  2020     12    1              12.21              69.38        17.77   \n",
              "\n",
              "     Precipitation  Chance  \n",
              "0             0.00       0  \n",
              "1             0.11       0  \n",
              "2             0.01       0  \n",
              "3             0.02       0  \n",
              "4           271.14       1  \n",
              "..             ...     ...  \n",
              "247        1203.09       1  \n",
              "248         361.30       1  \n",
              "249         180.18       0  \n",
              "250           0.49       0  \n",
              "251          12.23       0  \n",
              "\n",
              "[252 rows x 8 columns]"
            ],
            "text/html": [
              "\n",
              "  <div id=\"df-e136606b-4c2c-4f36-8d92-e554948d9769\">\n",
              "    <div class=\"colab-df-container\">\n",
              "      <div>\n",
              "<style scoped>\n",
              "    .dataframe tbody tr th:only-of-type {\n",
              "        vertical-align: middle;\n",
              "    }\n",
              "\n",
              "    .dataframe tbody tr th {\n",
              "        vertical-align: top;\n",
              "    }\n",
              "\n",
              "    .dataframe thead th {\n",
              "        text-align: right;\n",
              "    }\n",
              "</style>\n",
              "<table border=\"1\" class=\"dataframe\">\n",
              "  <thead>\n",
              "    <tr style=\"text-align: right;\">\n",
              "      <th></th>\n",
              "      <th>Year</th>\n",
              "      <th>Month</th>\n",
              "      <th>Day</th>\n",
              "      <th>Specific Humidity</th>\n",
              "      <th>Relative Humidity</th>\n",
              "      <th>Temperature</th>\n",
              "      <th>Precipitation</th>\n",
              "      <th>Chance</th>\n",
              "    </tr>\n",
              "  </thead>\n",
              "  <tbody>\n",
              "    <tr>\n",
              "      <th>0</th>\n",
              "      <td>2000</td>\n",
              "      <td>1</td>\n",
              "      <td>1</td>\n",
              "      <td>8.06</td>\n",
              "      <td>48.25</td>\n",
              "      <td>23.93</td>\n",
              "      <td>0.00</td>\n",
              "      <td>0</td>\n",
              "    </tr>\n",
              "    <tr>\n",
              "      <th>1</th>\n",
              "      <td>2000</td>\n",
              "      <td>2</td>\n",
              "      <td>1</td>\n",
              "      <td>8.73</td>\n",
              "      <td>50.81</td>\n",
              "      <td>25.83</td>\n",
              "      <td>0.11</td>\n",
              "      <td>0</td>\n",
              "    </tr>\n",
              "    <tr>\n",
              "      <th>2</th>\n",
              "      <td>2000</td>\n",
              "      <td>3</td>\n",
              "      <td>1</td>\n",
              "      <td>8.48</td>\n",
              "      <td>42.88</td>\n",
              "      <td>26.68</td>\n",
              "      <td>0.01</td>\n",
              "      <td>0</td>\n",
              "    </tr>\n",
              "    <tr>\n",
              "      <th>3</th>\n",
              "      <td>2000</td>\n",
              "      <td>4</td>\n",
              "      <td>1</td>\n",
              "      <td>1.79</td>\n",
              "      <td>55.69</td>\n",
              "      <td>22.49</td>\n",
              "      <td>0.02</td>\n",
              "      <td>0</td>\n",
              "    </tr>\n",
              "    <tr>\n",
              "      <th>4</th>\n",
              "      <td>2000</td>\n",
              "      <td>5</td>\n",
              "      <td>1</td>\n",
              "      <td>17.40</td>\n",
              "      <td>70.88</td>\n",
              "      <td>19.07</td>\n",
              "      <td>271.14</td>\n",
              "      <td>1</td>\n",
              "    </tr>\n",
              "    <tr>\n",
              "      <th>...</th>\n",
              "      <td>...</td>\n",
              "      <td>...</td>\n",
              "      <td>...</td>\n",
              "      <td>...</td>\n",
              "      <td>...</td>\n",
              "      <td>...</td>\n",
              "      <td>...</td>\n",
              "      <td>...</td>\n",
              "    </tr>\n",
              "    <tr>\n",
              "      <th>247</th>\n",
              "      <td>2020</td>\n",
              "      <td>8</td>\n",
              "      <td>1</td>\n",
              "      <td>20.08</td>\n",
              "      <td>92.31</td>\n",
              "      <td>5.34</td>\n",
              "      <td>1203.09</td>\n",
              "      <td>1</td>\n",
              "    </tr>\n",
              "    <tr>\n",
              "      <th>248</th>\n",
              "      <td>2020</td>\n",
              "      <td>9</td>\n",
              "      <td>1</td>\n",
              "      <td>19.71</td>\n",
              "      <td>90.12</td>\n",
              "      <td>9.22</td>\n",
              "      <td>361.30</td>\n",
              "      <td>1</td>\n",
              "    </tr>\n",
              "    <tr>\n",
              "      <th>249</th>\n",
              "      <td>2020</td>\n",
              "      <td>10</td>\n",
              "      <td>1</td>\n",
              "      <td>18.43</td>\n",
              "      <td>82.69</td>\n",
              "      <td>12.62</td>\n",
              "      <td>180.18</td>\n",
              "      <td>0</td>\n",
              "    </tr>\n",
              "    <tr>\n",
              "      <th>250</th>\n",
              "      <td>2020</td>\n",
              "      <td>11</td>\n",
              "      <td>1</td>\n",
              "      <td>14.83</td>\n",
              "      <td>76.06</td>\n",
              "      <td>16.95</td>\n",
              "      <td>0.49</td>\n",
              "      <td>0</td>\n",
              "    </tr>\n",
              "    <tr>\n",
              "      <th>251</th>\n",
              "      <td>2020</td>\n",
              "      <td>12</td>\n",
              "      <td>1</td>\n",
              "      <td>12.21</td>\n",
              "      <td>69.38</td>\n",
              "      <td>17.77</td>\n",
              "      <td>12.23</td>\n",
              "      <td>0</td>\n",
              "    </tr>\n",
              "  </tbody>\n",
              "</table>\n",
              "<p>252 rows × 8 columns</p>\n",
              "</div>\n",
              "      <button class=\"colab-df-convert\" onclick=\"convertToInteractive('df-e136606b-4c2c-4f36-8d92-e554948d9769')\"\n",
              "              title=\"Convert this dataframe to an interactive table.\"\n",
              "              style=\"display:none;\">\n",
              "        \n",
              "  <svg xmlns=\"http://www.w3.org/2000/svg\" height=\"24px\"viewBox=\"0 0 24 24\"\n",
              "       width=\"24px\">\n",
              "    <path d=\"M0 0h24v24H0V0z\" fill=\"none\"/>\n",
              "    <path d=\"M18.56 5.44l.94 2.06.94-2.06 2.06-.94-2.06-.94-.94-2.06-.94 2.06-2.06.94zm-11 1L8.5 8.5l.94-2.06 2.06-.94-2.06-.94L8.5 2.5l-.94 2.06-2.06.94zm10 10l.94 2.06.94-2.06 2.06-.94-2.06-.94-.94-2.06-.94 2.06-2.06.94z\"/><path d=\"M17.41 7.96l-1.37-1.37c-.4-.4-.92-.59-1.43-.59-.52 0-1.04.2-1.43.59L10.3 9.45l-7.72 7.72c-.78.78-.78 2.05 0 2.83L4 21.41c.39.39.9.59 1.41.59.51 0 1.02-.2 1.41-.59l7.78-7.78 2.81-2.81c.8-.78.8-2.07 0-2.86zM5.41 20L4 18.59l7.72-7.72 1.47 1.35L5.41 20z\"/>\n",
              "  </svg>\n",
              "      </button>\n",
              "      \n",
              "  <style>\n",
              "    .colab-df-container {\n",
              "      display:flex;\n",
              "      flex-wrap:wrap;\n",
              "      gap: 12px;\n",
              "    }\n",
              "\n",
              "    .colab-df-convert {\n",
              "      background-color: #E8F0FE;\n",
              "      border: none;\n",
              "      border-radius: 50%;\n",
              "      cursor: pointer;\n",
              "      display: none;\n",
              "      fill: #1967D2;\n",
              "      height: 32px;\n",
              "      padding: 0 0 0 0;\n",
              "      width: 32px;\n",
              "    }\n",
              "\n",
              "    .colab-df-convert:hover {\n",
              "      background-color: #E2EBFA;\n",
              "      box-shadow: 0px 1px 2px rgba(60, 64, 67, 0.3), 0px 1px 3px 1px rgba(60, 64, 67, 0.15);\n",
              "      fill: #174EA6;\n",
              "    }\n",
              "\n",
              "    [theme=dark] .colab-df-convert {\n",
              "      background-color: #3B4455;\n",
              "      fill: #D2E3FC;\n",
              "    }\n",
              "\n",
              "    [theme=dark] .colab-df-convert:hover {\n",
              "      background-color: #434B5C;\n",
              "      box-shadow: 0px 1px 3px 1px rgba(0, 0, 0, 0.15);\n",
              "      filter: drop-shadow(0px 1px 2px rgba(0, 0, 0, 0.3));\n",
              "      fill: #FFFFFF;\n",
              "    }\n",
              "  </style>\n",
              "\n",
              "      <script>\n",
              "        const buttonEl =\n",
              "          document.querySelector('#df-e136606b-4c2c-4f36-8d92-e554948d9769 button.colab-df-convert');\n",
              "        buttonEl.style.display =\n",
              "          google.colab.kernel.accessAllowed ? 'block' : 'none';\n",
              "\n",
              "        async function convertToInteractive(key) {\n",
              "          const element = document.querySelector('#df-e136606b-4c2c-4f36-8d92-e554948d9769');\n",
              "          const dataTable =\n",
              "            await google.colab.kernel.invokeFunction('convertToInteractive',\n",
              "                                                     [key], {});\n",
              "          if (!dataTable) return;\n",
              "\n",
              "          const docLinkHtml = 'Like what you see? Visit the ' +\n",
              "            '<a target=\"_blank\" href=https://colab.research.google.com/notebooks/data_table.ipynb>data table notebook</a>'\n",
              "            + ' to learn more about interactive tables.';\n",
              "          element.innerHTML = '';\n",
              "          dataTable['output_type'] = 'display_data';\n",
              "          await google.colab.output.renderOutput(dataTable, element);\n",
              "          const docLink = document.createElement('div');\n",
              "          docLink.innerHTML = docLinkHtml;\n",
              "          element.appendChild(docLink);\n",
              "        }\n",
              "      </script>\n",
              "    </div>\n",
              "  </div>\n",
              "  "
            ]
          },
          "metadata": {},
          "execution_count": 26
        }
      ]
    },
    {
      "cell_type": "code",
      "source": [
        "numerical_features = [column_name for column_name in rain.columns if rain[column_name].dtype != 'O']\n",
        "print(\"Number of Numerical Features: {}\".format(len(numerical_features)))\n",
        "print(\"Numerical Features: \",numerical_features)"
      ],
      "metadata": {
        "id": "RGp-j6DWqZYC",
        "colab": {
          "base_uri": "https://localhost:8080/"
        },
        "outputId": "5dc965fe-8718-4564-9de3-bcae7844d867"
      },
      "execution_count": null,
      "outputs": [
        {
          "output_type": "stream",
          "name": "stdout",
          "text": [
            "Number of Numerical Features: 8\n",
            "Numerical Features:  ['Year', 'Month', 'Day', 'Specific Humidity', 'Relative Humidity', 'Temperature', 'Precipitation', 'Chance']\n"
          ]
        }
      ]
    },
    {
      "cell_type": "code",
      "source": [
        "#Cardinality Check\n",
        "for each_feature in categorical_features:\n",
        "   unique_values = len(rain[each_feature].unique())\n",
        "   print(\"Cardinality(no. of unique values) of {} are: {}\".format(each_feature, unique_values))"
      ],
      "metadata": {
        "id": "3ULbWVslqc5d",
        "colab": {
          "base_uri": "https://localhost:8080/"
        },
        "outputId": "89557cda-2749-4f19-b7fe-cc1fe2962770"
      },
      "execution_count": null,
      "outputs": [
        {
          "output_type": "stream",
          "name": "stdout",
          "text": [
            "Cardinality(no. of unique values) of Chance are: 2\n"
          ]
        }
      ]
    },
    {
      "cell_type": "code",
      "source": [
        "categorical_features = [column_name for column_name in rain.columns if rain[column_name].dtype == 'O']\n",
        "rain[categorical_features].isnull().sum()"
      ],
      "metadata": {
        "colab": {
          "base_uri": "https://localhost:8080/"
        },
        "id": "EGPoD01uP98k",
        "outputId": "e72a7588-1a3d-40df-d25e-4be8e93df829"
      },
      "execution_count": null,
      "outputs": [
        {
          "output_type": "execute_result",
          "data": {
            "text/plain": [
              "Series([], dtype: float64)"
            ]
          },
          "metadata": {},
          "execution_count": 29
        }
      ]
    },
    {
      "cell_type": "code",
      "source": [
        "categorical_features_with_null = [feature for feature in categorical_features if rain[feature].isnull().sum()]\n",
        "for each_feature in categorical_features_with_null:\n",
        "    mode_val = rain[each_feature].mode()[0]\n",
        "numerical_features = [column_name for column_name in rain.columns if rain[column_name].dtype != 'O']\n",
        "rain[numerical_features].isnull().sum()"
      ],
      "metadata": {
        "colab": {
          "base_uri": "https://localhost:8080/"
        },
        "id": "0U1SLdsTQdGD",
        "outputId": "e586972c-c3e9-4e78-a316-c9c10ad2cebe"
      },
      "execution_count": null,
      "outputs": [
        {
          "output_type": "execute_result",
          "data": {
            "text/plain": [
              "Year                 0\n",
              "Month                0\n",
              "Day                  0\n",
              "Specific Humidity    0\n",
              "Relative Humidity    0\n",
              "Temperature          0\n",
              "Precipitation        0\n",
              "Chance               0\n",
              "dtype: int64"
            ]
          },
          "metadata": {},
          "execution_count": 30
        }
      ]
    },
    {
      "cell_type": "code",
      "source": [
        "# Remove Outliers\n",
        "features_with_outliers = ['Year',\t'Month',\t'Day',\t'Specific Humidity', 'Relative Humidity',\t'Temperature',\t'Precipitation', 'Chance']\n",
        "for feature in features_with_outliers:\n",
        "    q1 = rain[feature].quantile(0.25)\n",
        "    q3 = rain[feature].quantile(0.75)\n",
        "    IQR = q3-q1\n",
        "    lower_limit = q1 - (IQR*1.5)\n",
        "    upper_limit = q3 + (IQR*1.5)\n",
        "    rain.loc[rain[feature]<lower_limit,feature] = lower_limit\n",
        "    rain.loc[rain[feature]>upper_limit,feature] = upper_limit"
      ],
      "metadata": {
        "id": "2x6QcX1UQmtz"
      },
      "execution_count": null,
      "outputs": []
    },
    {
      "cell_type": "code",
      "source": [
        "numerical_features_with_null = [feature for feature in numerical_features if rain[feature].isnull().sum()]\n",
        "for feature in numerical_features_with_null:\n",
        "    mean_value = rain[feature].mean()\n",
        "    rain[feature].fillna(mean_value,inplace=True)"
      ],
      "metadata": {
        "id": "L_FrkQd2Q9vL"
      },
      "execution_count": null,
      "outputs": []
    },
    {
      "cell_type": "code",
      "source": [
        "rain['Precipitation'].value_counts().plot(kind='bar')"
      ],
      "metadata": {
        "colab": {
          "base_uri": "https://localhost:8080/",
          "height": 326
        },
        "id": "3v7_goHHRAs9",
        "outputId": "94623337-ac91-4871-b937-8e94ac0184e8"
      },
      "execution_count": null,
      "outputs": [
        {
          "output_type": "execute_result",
          "data": {
            "text/plain": [
              "<matplotlib.axes._subplots.AxesSubplot at 0x7f4b4e1cd5d0>"
            ]
          },
          "metadata": {},
          "execution_count": 33
        },
        {
          "output_type": "display_data",
          "data": {
            "text/plain": [
              "<Figure size 432x288 with 1 Axes>"
            ],
            "image/png": "[encoded data removed]"
          },
          "metadata": {
            "needs_background": "light"
          }
        }
      ]
    },
    {
      "cell_type": "code",
      "source": [
        "X = rain.drop(['Precipitation','Chance'],axis=1)\n",
        "y = rain['Precipitation']\n",
        "\n",
        "from sklearn.ensemble import ExtraTreesRegressor\n",
        "etr_model = ExtraTreesRegressor()\n",
        "etr_model.fit(X,y)\n",
        "etr_model.feature_importances_"
      ],
      "metadata": {
        "colab": {
          "base_uri": "https://localhost:8080/"
        },
        "id": "eMn0d73BRLsj",
        "outputId": "ef01b7f7-e4db-4da7-848c-b263f523f118"
      },
      "execution_count": null,
      "outputs": [
        {
          "output_type": "execute_result",
          "data": {
            "text/plain": [
              "array([0.02766651, 0.18120618, 0.        , 0.24908134, 0.1655331 ,\n",
              "       0.37651287])"
            ]
          },
          "metadata": {},
          "execution_count": 34
        }
      ]
    },
    {
      "cell_type": "code",
      "source": [
        "from sklearn.model_selection import train_test_split\n",
        "X_train, X_test, y_train, y_test = train_test_split(X,y, test_size = 0.2, random_state = 0)"
      ],
      "metadata": {
        "id": "cufgdrB0RX7K"
      },
      "execution_count": null,
      "outputs": []
    },
    {
      "cell_type": "code",
      "source": [
        "print(\"Length of Training Data: {}\".format(len(X_train)))\n",
        "print(\"Length of Testing Data: {}\".format(len(X_test)))"
      ],
      "metadata": {
        "colab": {
          "base_uri": "https://localhost:8080/"
        },
        "id": "gTRAwb1qRcZD",
        "outputId": "40cae28b-02f0-4f3f-8b46-7edec53dbd24"
      },
      "execution_count": null,
      "outputs": [
        {
          "output_type": "stream",
          "name": "stdout",
          "text": [
            "Length of Training Data: 201\n",
            "Length of Testing Data: 51\n"
          ]
        }
      ]
    },
    {
      "cell_type": "code",
      "source": [
        "from sklearn.preprocessing import StandardScaler\n",
        "scaler = StandardScaler()\n",
        "X_train = scaler.fit_transform(X_train)\n",
        "X_test = scaler.transform(X_test)"
      ],
      "metadata": {
        "id": "hd4rYCnuRetL"
      },
      "execution_count": null,
      "outputs": []
    },
    {
      "cell_type": "code",
      "source": [
        "from sklearn.linear_model import LinearRegression\n",
        "lr = LinearRegression()\n",
        "lr.fit(X_train, y_train)"
      ],
      "metadata": {
        "colab": {
          "base_uri": "https://localhost:8080/"
        },
        "id": "mzQWBL-8Rlkx",
        "outputId": "e63155cf-a228-44f1-a1ae-d284563ec7f4"
      },
      "execution_count": null,
      "outputs": [
        {
          "output_type": "execute_result",
          "data": {
            "text/plain": [
              "LinearRegression()"
            ]
          },
          "metadata": {},
          "execution_count": 38
        }
      ]
    },
    {
      "cell_type": "code",
      "source": [
        "y_pred = lr.predict(X_test)\n",
        "y_pred"
      ],
      "metadata": {
        "colab": {
          "base_uri": "https://localhost:8080/"
        },
        "id": "XwayucvLR2tE",
        "outputId": "8de1409e-cfff-437f-ee16-142157754533"
      },
      "execution_count": null,
      "outputs": [
        {
          "output_type": "execute_result",
          "data": {
            "text/plain": [
              "array([ 1.76223284e+01, -8.19074826e+01, -1.04946436e+02,  5.18277735e+02,\n",
              "        5.56930757e+02,  5.68899928e+02,  1.06166191e+02, -1.51249477e+02,\n",
              "       -1.88477507e+01,  9.23504751e+01,  3.43481136e+02,  1.70860207e+02,\n",
              "       -9.80686462e+01,  2.94542465e+02,  2.10230692e+02, -5.87943868e+01,\n",
              "       -7.02365255e+01,  1.83155896e+01,  1.17400106e+01, -2.23625632e+02,\n",
              "        5.18269849e+02,  1.62223906e+02,  8.35240112e+01,  5.41557679e+02,\n",
              "       -1.55037683e+01,  4.33113582e+01,  3.68840862e+02,  5.55390693e+02,\n",
              "        2.61168154e+02,  3.50446012e+01,  5.63568676e+02,  5.80004492e+02,\n",
              "        4.50618613e-01, -1.86169357e+02,  5.58629633e+01, -2.19053808e+02,\n",
              "        5.56460967e+02,  5.18047255e+02,  2.25112525e+01,  1.45937420e+02,\n",
              "        4.62396805e+02, -3.32351465e+01, -7.17000293e+00,  1.08449391e+02,\n",
              "        5.71052701e+02,  2.54349336e+02,  2.29120422e+02,  4.70417227e+02,\n",
              "        5.41519983e+02,  1.52348997e+01, -5.94526293e+01])"
            ]
          },
          "metadata": {},
          "execution_count": 39
        }
      ]
    },
    {
      "cell_type": "code",
      "source": [
        "import pickle\n",
        "pickle.dump(lr, open('model.pkl','wb'))\n",
        "model = pickle.load(open('model.pkl','rb'))\n",
        "#Y,M,D,H,T\n",
        "pop = model.predict([[2020,1,1,17,48.25,23.93]])\n",
        "#pop = model.predict([[2020,1,1,17,37,32.6]])\n",
        "pop"
      ],
      "metadata": {
        "id": "-D-G61ksmDLj",
        "colab": {
          "base_uri": "https://localhost:8080/"
        },
        "outputId": "bfa2c80d-d980-4fe9-e100-75143dd12c39"
      },
      "execution_count": null,
      "outputs": [
        {
          "output_type": "execute_result",
          "data": {
            "text/plain": [
              "array([13092.64817753])"
            ]
          },
          "metadata": {},
          "execution_count": 40
        }
      ]
    },
    {
      "cell_type": "code",
      "source": [
        "X = rain.drop(['Chance'],axis=1)\n",
        "y = rain['Chance']\n",
        "from sklearn.model_selection import train_test_split\n",
        "X_train, X_test, y_train, y_test = train_test_split(X,y, test_size = 0.2, random_state = 0)\n",
        "\n",
        "from sklearn.preprocessing import StandardScaler\n",
        "scaler = StandardScaler()\n",
        "X_train = scaler.fit_transform(X_train)\n",
        "X_test = scaler.transform(X_test)\n",
        "\n",
        "from sklearn.linear_model import LogisticRegression\n",
        "logr = LogisticRegression()\n",
        "logr.fit(X_train, y_train)\n",
        "y_pred = logr.predict(X_test)\n",
        "y_pred"
      ],
      "metadata": {
        "colab": {
          "base_uri": "https://localhost:8080/"
        },
        "id": "5iLx2WY2ZDSM",
        "outputId": "50327a7d-1fbf-4026-c24e-5471bc1ff577"
      },
      "execution_count": null,
      "outputs": [
        {
          "output_type": "execute_result",
          "data": {
            "text/plain": [
              "array([0., 0., 0., 1., 1., 1., 0., 0., 0., 0., 1., 0., 0., 1., 0., 0., 0.,\n",
              "       0., 0., 0., 1., 0., 0., 1., 0., 0., 1., 1., 0., 0., 1., 1., 0., 0.,\n",
              "       0., 0., 1., 1., 0., 0., 1., 0., 0., 0., 1., 0., 0., 1., 1., 0., 0.])"
            ]
          },
          "metadata": {},
          "execution_count": 41
        }
      ]
    },
    {
      "cell_type": "code",
      "source": [
        "pickle.dump(logr, open('model1.pkl','wb'))\n",
        "model1 = pickle.load(open('model1.pkl','rb'))\n",
        "#Y,M,D,H,T\n",
        "#pop = model1.predict([[2020,6,1,17,90,17,800]])\n",
        "pop = model1.predict([[2020,11,11,40,33.10,32.6,50]])\n",
        "if(pop == 0):\n",
        "  print(\"Low\")\n",
        "if(pop == 1):\n",
        "  print(\"High\")"
      ],
      "metadata": {
        "colab": {
          "base_uri": "https://localhost:8080/"
        },
        "id": "K04EiuVUY7qH",
        "outputId": "22e943e0-4aee-48ab-845c-9a9ad34bc040"
      },
      "execution_count": null,
      "outputs": [
        {
          "output_type": "stream",
          "name": "stdout",
          "text": [
            "Low\n"
          ]
        }
      ]
    }
  ]
}